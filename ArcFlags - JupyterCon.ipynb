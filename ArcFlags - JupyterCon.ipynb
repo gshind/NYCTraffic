{
 "cells": [
  {
   "cell_type": "code",
   "execution_count": 1,
   "metadata": {
    "collapsed": false
   },
   "outputs": [
    {
     "name": "stdout",
     "output_type": "stream",
     "text": [
      "Requirement already satisfied: iPython in /usr/local/lib/python2.7/site-packages\n",
      "Requirement already satisfied: pickleshare in /usr/local/lib/python2.7/site-packages (from iPython)\n",
      "Requirement already satisfied: prompt-toolkit<2.0.0,>=1.0.3 in /usr/local/lib/python2.7/site-packages (from iPython)\n",
      "Requirement already satisfied: traitlets>=4.2 in /usr/local/lib/python2.7/site-packages (from iPython)\n",
      "Requirement already satisfied: simplegeneric>0.8 in /usr/local/lib/python2.7/site-packages (from iPython)\n",
      "Requirement already satisfied: backports.shutil-get-terminal-size; python_version == \"2.7\" in /usr/local/lib/python2.7/site-packages (from iPython)\n",
      "Requirement already satisfied: pygments in /usr/local/lib/python2.7/site-packages (from iPython)\n",
      "Requirement already satisfied: pexpect; sys_platform != \"win32\" in /usr/local/lib/python2.7/site-packages (from iPython)\n",
      "Requirement already satisfied: decorator in /usr/local/lib/python2.7/site-packages (from iPython)\n",
      "Requirement already satisfied: appnope; sys_platform == \"darwin\" in /usr/local/lib/python2.7/site-packages (from iPython)\n",
      "Requirement already satisfied: setuptools>=18.5 in /usr/local/lib/python2.7/site-packages (from iPython)\n",
      "Requirement already satisfied: pathlib2; python_version == \"2.7\" or python_version == \"3.3\" in /usr/local/lib/python2.7/site-packages (from iPython)\n",
      "Requirement already satisfied: six>=1.9.0 in /usr/local/lib/python2.7/site-packages (from prompt-toolkit<2.0.0,>=1.0.3->iPython)\n",
      "Requirement already satisfied: wcwidth in /usr/local/lib/python2.7/site-packages (from prompt-toolkit<2.0.0,>=1.0.3->iPython)\n",
      "Requirement already satisfied: enum34; python_version == \"2.7\" in /usr/local/lib/python2.7/site-packages (from traitlets>=4.2->iPython)\n",
      "Requirement already satisfied: ipython-genutils in /usr/local/lib/python2.7/site-packages (from traitlets>=4.2->iPython)\n",
      "Requirement already satisfied: ptyprocess>=0.5 in /usr/local/lib/python2.7/site-packages (from pexpect; sys_platform != \"win32\"->iPython)\n"
     ]
    }
   ],
   "source": [
    "!pip install iPython"
   ]
  },
  {
   "cell_type": "code",
   "execution_count": 2,
   "metadata": {
    "collapsed": false
   },
   "outputs": [],
   "source": [
    "import numpy as np\n",
    "import pandas as pd\n",
    "import folium\n",
    "from IPython.display import HTML"
   ]
  },
  {
   "cell_type": "code",
   "execution_count": 3,
   "metadata": {
    "collapsed": true
   },
   "outputs": [],
   "source": [
    "links = pd.read_csv('../Data/links.csv')\n",
    "nodes = pd.read_csv('../Data/nodes.csv')\n",
    "morning_commute = open('./morning_new.txt', 'r')\n",
    "evening_commute = open('./evening_new.txt', 'r')"
   ]
  },
  {
   "cell_type": "code",
   "execution_count": 4,
   "metadata": {
    "collapsed": false
   },
   "outputs": [],
   "source": [
    "def evaluate_path(filepath):\n",
    "    commute = open(filepath ,'r')\n",
    "    dict_from_file = eval(commute.read())\n",
    "    path = []\n",
    "    for line in dict_from_file:\n",
    "        if dict_from_file[line] != 'No path between them':\n",
    "            path.append(dict_from_file[line])\n",
    "    tmp = []\n",
    "    for idx in range(len(path)):\n",
    "        tmp.append(path[idx][0]) \n",
    "    return tmp\n",
    "\n",
    "def draw_links(nyc, array, colour):\n",
    "    #map_temp = folium.Map(location=[40.758532, -73.9888431], zoom_start=11)\n",
    "    for i in range(len(array)):\n",
    "        if(i % 100 == 0):\n",
    "            print(i)\n",
    "        for j in range(len(array[i])-1):\n",
    "            row1 = nodes.loc[nodes['node_id'] == int(array[i][j])]\n",
    "            row2 = nodes.loc[nodes['node_id'] == int(array[i][j+1])]\n",
    "            a = folium.PolyLine(locations=[[row1['ycoord'].values[0],row1['xcoord'].values[0]],[row2['ycoord'].values[0],row2['xcoord'].values[0]]],color = colour,latlon=True)\n",
    "            nyc.add_children(a)\n",
    "    return nyc\n",
    "\n",
    "def initializeMap():\n",
    "    NY_COORDINATES = (40.7566,-73.9815)\n",
    "    m = folium.Map(location=NY_COORDINATES, zoom_start=15)\n",
    "    folium.TileLayer('cartodbpositron').add_to(m)\n",
    "    folium.LayerControl().add_to(m)\n",
    "    #LatLngPopup enables us to know the latitude and longtitude of any position with one click\n",
    "    #m.add_children(LatLngPopup())\n",
    "    print('initialized map')\n",
    "    return m"
   ]
  },
  {
   "cell_type": "code",
   "execution_count": 5,
   "metadata": {
    "collapsed": false
   },
   "outputs": [],
   "source": [
    "morn = evaluate_path('./morning_new.txt')\n",
    "even = evaluate_path('./evening_new.txt')"
   ]
  },
  {
   "cell_type": "code",
   "execution_count": 7,
   "metadata": {
    "collapsed": false
   },
   "outputs": [
    {
     "name": "stdout",
     "output_type": "stream",
     "text": [
      "initialized map\n",
      "0\n",
      "100\n",
      "200\n",
      "300\n",
      "400\n",
      "500\n",
      "600\n",
      "700\n",
      "800\n",
      "900\n"
     ]
    }
   ],
   "source": [
    "nyc_morn_map = initializeMap()\n",
    "nyc_morn_map = draw_links(nyc_morn_map, evaluate_path('./morning_new.txt'), 'red')\n"
   ]
  },
  {
   "cell_type": "code",
   "execution_count": 9,
   "metadata": {
    "collapsed": false
   },
   "outputs": [
    {
     "name": "stdout",
     "output_type": "stream",
     "text": [
      "initialized map\n",
      "0\n",
      "100\n",
      "200\n",
      "300\n",
      "400\n",
      "500\n",
      "600\n",
      "700\n",
      "800\n",
      "900\n"
     ]
    }
   ],
   "source": [
    "nyc_even_map = initializeMap()\n",
    "nyc_even_map = draw_links(nyc_even_map, evaluate_path('./evening_new.txt'), 'blue')"
   ]
  },
  {
   "cell_type": "code",
   "execution_count": null,
   "metadata": {
    "collapsed": false,
    "scrolled": true
   },
   "outputs": [],
   "source": [
    "nyc_even_map"
   ]
  },
  {
   "cell_type": "code",
   "execution_count": 11,
   "metadata": {
    "collapsed": false
   },
   "outputs": [
    {
     "data": {
      "text/plain": [
       "folium.folium.Map"
      ]
     },
     "execution_count": 11,
     "metadata": {},
     "output_type": "execute_result"
    }
   ],
   "source": [
    "type(nyc_even_map)"
   ]
  },
  {
   "cell_type": "code",
   "execution_count": null,
   "metadata": {
    "collapsed": false
   },
   "outputs": [],
   "source": []
  },
  {
   "cell_type": "code",
   "execution_count": null,
   "metadata": {
    "collapsed": true
   },
   "outputs": [],
   "source": []
  }
 ],
 "metadata": {
  "kernelspec": {
   "display_name": "Python 2",
   "language": "python",
   "name": "python2"
  },
  "language_info": {
   "codemirror_mode": {
    "name": "ipython",
    "version": 2
   },
   "file_extension": ".py",
   "mimetype": "text/x-python",
   "name": "python",
   "nbconvert_exporter": "python",
   "pygments_lexer": "ipython2",
   "version": "2.7.12"
  }
 },
 "nbformat": 4,
 "nbformat_minor": 1
}
